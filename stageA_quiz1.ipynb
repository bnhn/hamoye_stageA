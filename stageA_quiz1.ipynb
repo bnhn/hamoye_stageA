{
 "cells": [
  {
   "cell_type": "code",
   "execution_count": 15,
   "metadata": {},
   "outputs": [
    {
     "name": "stdout",
     "output_type": "stream",
     "text": [
      "e\n",
      "8\n"
     ]
    }
   ],
   "source": [
    "import pandas as pd\n",
    "\n",
    "# lst = [[35,'Portugal']]\n",
    "S = [['him','sell'],[90,28,43]]\n",
    "print(S[0][1][1])\n",
    "# # t=(1,2,5,8)\n",
    "# t[2]=6\n",
    "\n",
    "y = [(2,4),(7,8),(1,5,9)]\n",
    "x= y[1][1]\n",
    "print(x)"
   ]
  },
  {
   "cell_type": "code",
   "execution_count": 42,
   "metadata": {},
   "outputs": [
    {
     "name": "stdout",
     "output_type": "stream",
     "text": [
      "          Area Code     Item Code  Element Code          Y2014          Y2015  \\\n",
      "count  60943.000000  60943.000000  60943.000000   59354.000000   59395.000000   \n",
      "mean     134.265576   2687.176706   3814.856456     134.196282     135.235966   \n",
      "std       72.605709    146.055739   2212.007033    1567.663696    1603.403984   \n",
      "min        4.000000   2501.000000    511.000000   -1796.000000   -3161.000000   \n",
      "25%       74.000000   2562.000000    684.000000       0.000000       0.000000   \n",
      "50%      136.000000   2630.000000   5142.000000       0.090000       0.080000   \n",
      "75%      195.000000   2775.000000   5511.000000       8.340000       8.460000   \n",
      "max      276.000000   2961.000000   5911.000000  176405.000000  181137.000000   \n",
      "\n",
      "               Y2016          Y2017          Y2018  \n",
      "count   59408.000000   59437.000000   59507.000000  \n",
      "mean      136.555222     140.917765     143.758381  \n",
      "std      1640.007194    1671.862359    1710.782658  \n",
      "min     -3225.000000   -1582.000000   -3396.000000  \n",
      "25%         0.000000       0.000000       0.000000  \n",
      "50%         0.080000       0.100000       0.070000  \n",
      "75%         8.430000       9.000000       9.000000  \n",
      "max    185960.000000  190873.000000  195875.000000  \n",
      "Area Code          0\n",
      "Area               0\n",
      "Item Code          0\n",
      "Item               0\n",
      "Element Code       0\n",
      "Element            0\n",
      "Unit               0\n",
      "Y2014           1589\n",
      "Y2015           1548\n",
      "Y2016           1535\n",
      "Y2017           1506\n",
      "Y2018           1436\n",
      "dtype: int64\n"
     ]
    },
    {
     "data": {
      "text/plain": [
       "60943"
      ]
     },
     "execution_count": 42,
     "metadata": {},
     "output_type": "execute_result"
    }
   ],
   "source": [
    "url = 'FoodBalanceSheets_E_Africa_NOFLAG - Copy.csv'\n",
    "# url = 'https://github.com/HamoyeHQ/HDSC-Introduction-to-Python-for-machine-learning/files/7768140/FoodBalanceSheets_E_Africa_NOFLAG.csv'\n",
    "food_data = pd.read_csv(url, on_bad_lines=None)\n",
    "food_data_des = food_data.describe()\n",
    "print(food_data_des)\n",
    "\n",
    "\n",
    "food_data_null_count = food_data.isnull().sum()\n",
    "print(food_data_null_count)\n",
    "food_data.groupby('Element')['Element'].count()\n",
    "food_data.groupby('Item')['Item'].sum()\n",
    "\n",
    "food_data['Area'].nunique()\n"
   ]
  }
 ],
 "metadata": {
  "language_info": {
   "name": "python"
  },
  "orig_nbformat": 4
 },
 "nbformat": 4,
 "nbformat_minor": 2
}
